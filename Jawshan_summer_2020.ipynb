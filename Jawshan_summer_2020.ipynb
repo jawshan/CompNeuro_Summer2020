{
  "nbformat": 4,
  "nbformat_minor": 0,
  "metadata": {
    "colab": {
      "name": "Jawshan_summer_2020",
      "provenance": [],
      "collapsed_sections": [],
      "authorship_tag": "ABX9TyMmz6CgN64dTF25PemUI54I",
      "include_colab_link": true
    },
    "kernelspec": {
      "name": "python3",
      "display_name": "Python 3"
    }
  },
  "cells": [
    {
      "cell_type": "markdown",
      "metadata": {
        "id": "view-in-github",
        "colab_type": "text"
      },
      "source": [
        "<a href=\"https://colab.research.google.com/github/jawshan/CompNeuro_Summer2020/blob/master/Jawshan_summer_2020.ipynb\" target=\"_parent\"><img src=\"https://colab.research.google.com/assets/colab-badge.svg\" alt=\"Open In Colab\"/></a>"
      ]
    },
    {
      "cell_type": "code",
      "metadata": {
        "id": "9eGwgpvgOKd9",
        "colab_type": "code",
        "colab": {}
      },
      "source": [
        "#@title Data retrival\n",
        "import os, requests\n",
        "\n",
        "fname = []\n",
        "for j in range(3):\n",
        "  fname.append('steinmetz_part%d.npz'%j)\n",
        "url = [\"https://osf.io/agvxh/download\"]\n",
        "url.append(\"https://osf.io/uv3mw/download\")\n",
        "url.append(\"https://osf.io/ehmw2/download\")\n",
        "\n",
        "for j in range(len(url)):\n",
        "  if not os.path.isfile(fname[j]):\n",
        "    try:\n",
        "      r = requests.get(url[j])\n",
        "    except requests.ConnectionError:\n",
        "      print(\"!!! Failed to download data !!!\")\n",
        "    else:\n",
        "      if r.status_code != requests.codes.ok:\n",
        "        print(\"!!! Failed to download data !!!\")\n",
        "      else:\n",
        "        with open(fname[j], \"wb\") as fid:\n",
        "          fid.write(r.content)\n"
      ],
      "execution_count": 12,
      "outputs": []
    },
    {
      "cell_type": "code",
      "metadata": {
        "id": "i1kP4ZudPrOy",
        "colab_type": "code",
        "colab": {}
      },
      "source": [
        "#@title Import matplotlib and set defaults\n",
        "from matplotlib import rcParams \n",
        "from matplotlib import pyplot as plt\n",
        "rcParams['figure.figsize'] = [20, 4]\n",
        "rcParams['font.size'] =15\n",
        "rcParams['axes.spines.top'] = False\n",
        "rcParams['axes.spines.right'] = False\n",
        "rcParams['figure.autolayout'] = True"
      ],
      "execution_count": 13,
      "outputs": []
    },
    {
      "cell_type": "code",
      "metadata": {
        "id": "HLdP1L-pP5-d",
        "colab_type": "code",
        "colab": {}
      },
      "source": [
        "#@title Data loading\n",
        "import numpy as np\n",
        "import pandas as pd\n",
        "\n",
        "alldat = np.array([])\n",
        "for j in range(len(fname)):\n",
        "  alldat = np.hstack((alldat, np.load('steinmetz_part%d.npz'%j, allow_pickle=True)['dat']))\n",
        "\n",
        "# select just one of the recordings here. 11 is nice because it has some neurons in vis ctx. \n",
        "dat = alldat[11]\n",
        "#print(dat.keys())"
      ],
      "execution_count": 4,
      "outputs": []
    },
    {
      "cell_type": "code",
      "metadata": {
        "id": "0owOPvcQfqYn",
        "colab_type": "code",
        "colab": {}
      },
      "source": [
        "#@title Data Extraction\n",
        "\n",
        "\n",
        "def extract_data(data, brain_area):\n",
        "  row = {}\n",
        "  row['mouse_name']     = data['mouse_name']\n",
        "  row['num_v1_neurons'] = np.sum(data['brain_area']=='VISp')\n",
        "  row['num_neurons'], row['num_trials'], row['num_time_bins'] = data['spks'].shape\n",
        "\n",
        "  # Event times in seconds ∈ [0,2.5]  \n",
        "  row['start_time']      = 0.0\n",
        "  row['stim_onset_time'] = data['stim_onset']\n",
        "  row['gocue_time']      = data['gocue']\n",
        "  row['response_time']   = data['response_time']\n",
        "  row['feedback_time']   = data['feedback_time']\n",
        "  row['end_time']        = data['bin_size'] * row['num_time_bins']\n",
        "  # Stimulus info : right and left stimulus contrasts ∈ [0,1] \n",
        "  row['contrast_right'] = data['contrast_right']\n",
        "  row['contrast_left']  = data['contrast_left']\n",
        "  \n",
        "# Action and feedback info   \n",
        "  # response (left,no-go,right) :  ∈ {-1,0,1}\n",
        "  # feedback (-ve,+ve)          :  ∈ {-1,1}  \n",
        "  row['response']        = data['response']\n",
        "  row['feedback']        = data['feedback_type']\n",
        "  row['binary_feedback'] = np.array(data['feedback_type'] == 1).astype(int)\n",
        "  #@title Spikes\n",
        "\n",
        "  ## Extracting spikes from neurons corresponding to specified region\n",
        "  visp_indexes = np.argwhere(data['brain_area']==brain_area)\n",
        "  reduced_neuron_spikes = np.squeeze(data['spks'][visp_indexes,:,:],1)  \n",
        "  ## Reshaping spikes to have trials dimension first : #trials, #neurons, #time_bins \n",
        "  row['spikes'] = reduced_neuron_spikes.transpose(1,0,2)\n",
        "\n",
        "  ## Convert spikes to time & spike count per trial\n",
        "  row['spike_times'] = np.zeros_like(row['spikes']).astype(np.float16)\n",
        "  ax1, ax2, ax3      = np.shape(row['spikes'])\n",
        "  row['spike_count'] = np.zeros((ax1, ax2, 1)).astype(np.float16)\n",
        "  correction         = 1/1000\n",
        "  for i, trial in enumerate(row['spike_times']):\n",
        "    for j, neuron in enumerate(row['spike_times'][i]):\n",
        "      row['spike_count'][i][j] = np.sum(row['spikes'][i][j])\n",
        "      spike_time_list          = [10 * bin if spike !=0 else 0 for bin, spike in enumerate(row['spikes'][i][j])]\n",
        "      row['spike_times'][i][j] = np.array(spike_time_list).astype(np.float16)\n",
        "\n",
        "  row['spikes_reordered'] = reduced_neuron_spikes\n",
        "  return(row)\n",
        "\n",
        "extracted_data = np.array(list(map(lambda data: extract_data(data, 'VISp'), alldat)))\n",
        "#print(extracted_data[0]['spike_count'][0][30])\n"
      ],
      "execution_count": null,
      "outputs": []
    },
    {
      "cell_type": "code",
      "metadata": {
        "id": "ty2xj74ok-CS",
        "colab_type": "code",
        "colab": {
          "base_uri": "https://localhost:8080/",
          "height": 35
        },
        "outputId": "86719831-cf2f-448a-bf13-8d4b7b7322db"
      },
      "source": [
        "'''for bin, spike in enumerate(extracted_data[0]['spikes'][0][0]):\n",
        "  print(10 * bin) if spike !=0 else print('0') \n",
        "  '''"
      ],
      "execution_count": null,
      "outputs": [
        {
          "output_type": "execute_result",
          "data": {
            "application/vnd.google.colaboratory.intrinsic+json": {
              "type": "string"
            },
            "text/plain": [
              "\"for bin, spike in enumerate(extracted_data[0]['spikes'][0][0]):\\n  print(10 * bin) if spike !=0 else print('0') \\n  \""
            ]
          },
          "metadata": {
            "tags": []
          },
          "execution_count": 24
        }
      ]
    },
    {
      "cell_type": "code",
      "metadata": {
        "id": "cjNHCNALgFEp",
        "colab_type": "code",
        "colab": {
          "base_uri": "https://localhost:8080/",
          "height": 392
        },
        "outputId": "df45a406-fe52-46e4-cf84-31cfb970cf0f"
      },
      "source": [
        "#@title Data Table\n",
        "time_cols = ['start_time','stim_onset_time','gocue_time','response_time','feedback_time','end_time']\n",
        "id_cols  = ['mouse_name']\n",
        "dim_cols = ['num_v1_neurons','num_neurons','num_trials','num_time_bins','spike_times']\n",
        "\n",
        "cols = id_cols + dim_cols\n",
        "\n",
        "df = pd.DataFrame.from_records(extracted_data, columns=cols)\n",
        "\n",
        "df_v1 = df[df['num_v1_neurons'] > 0]\n",
        "df_v1"
      ],
      "execution_count": null,
      "outputs": [
        {
          "output_type": "execute_result",
          "data": {
            "text/html": [
              "<div>\n",
              "<style scoped>\n",
              "    .dataframe tbody tr th:only-of-type {\n",
              "        vertical-align: middle;\n",
              "    }\n",
              "\n",
              "    .dataframe tbody tr th {\n",
              "        vertical-align: top;\n",
              "    }\n",
              "\n",
              "    .dataframe thead th {\n",
              "        text-align: right;\n",
              "    }\n",
              "</style>\n",
              "<table border=\"1\" class=\"dataframe\">\n",
              "  <thead>\n",
              "    <tr style=\"text-align: right;\">\n",
              "      <th></th>\n",
              "      <th>mouse_name</th>\n",
              "      <th>num_v1_neurons</th>\n",
              "      <th>num_neurons</th>\n",
              "      <th>num_trials</th>\n",
              "      <th>num_time_bins</th>\n",
              "      <th>spike_times</th>\n",
              "    </tr>\n",
              "  </thead>\n",
              "  <tbody>\n",
              "    <tr>\n",
              "      <th>0</th>\n",
              "      <td>Cori</td>\n",
              "      <td>178</td>\n",
              "      <td>734</td>\n",
              "      <td>214</td>\n",
              "      <td>250</td>\n",
              "      <td>[[[0.0, 0.0, 0.0, 0.0, 0.0, 50.0, 0.0, 0.0, 0....</td>\n",
              "    </tr>\n",
              "    <tr>\n",
              "      <th>2</th>\n",
              "      <td>Cori</td>\n",
              "      <td>114</td>\n",
              "      <td>619</td>\n",
              "      <td>228</td>\n",
              "      <td>250</td>\n",
              "      <td>[[[0.0, 0.0, 0.0, 0.0, 0.0, 0.0, 0.0, 0.0, 0.0...</td>\n",
              "    </tr>\n",
              "    <tr>\n",
              "      <th>3</th>\n",
              "      <td>Forssmann</td>\n",
              "      <td>39</td>\n",
              "      <td>1769</td>\n",
              "      <td>249</td>\n",
              "      <td>250</td>\n",
              "      <td>[[[0.0, 10.0, 0.0, 0.0, 40.0, 0.0, 0.0, 0.0, 0...</td>\n",
              "    </tr>\n",
              "    <tr>\n",
              "      <th>7</th>\n",
              "      <td>Hench</td>\n",
              "      <td>48</td>\n",
              "      <td>1156</td>\n",
              "      <td>250</td>\n",
              "      <td>250</td>\n",
              "      <td>[[[0.0, 0.0, 0.0, 0.0, 0.0, 0.0, 0.0, 0.0, 0.0...</td>\n",
              "    </tr>\n",
              "    <tr>\n",
              "      <th>9</th>\n",
              "      <td>Hench</td>\n",
              "      <td>105</td>\n",
              "      <td>1172</td>\n",
              "      <td>447</td>\n",
              "      <td>250</td>\n",
              "      <td>[[[0.0, 0.0, 0.0, 0.0, 0.0, 0.0, 0.0, 0.0, 0.0...</td>\n",
              "    </tr>\n",
              "    <tr>\n",
              "      <th>11</th>\n",
              "      <td>Lederberg</td>\n",
              "      <td>66</td>\n",
              "      <td>698</td>\n",
              "      <td>340</td>\n",
              "      <td>250</td>\n",
              "      <td>[[[0.0, 10.0, 0.0, 0.0, 0.0, 0.0, 0.0, 0.0, 0....</td>\n",
              "    </tr>\n",
              "    <tr>\n",
              "      <th>13</th>\n",
              "      <td>Lederberg</td>\n",
              "      <td>42</td>\n",
              "      <td>756</td>\n",
              "      <td>268</td>\n",
              "      <td>250</td>\n",
              "      <td>[[[0.0, 0.0, 0.0, 0.0, 0.0, 0.0, 0.0, 0.0, 0.0...</td>\n",
              "    </tr>\n",
              "    <tr>\n",
              "      <th>19</th>\n",
              "      <td>Moniz</td>\n",
              "      <td>122</td>\n",
              "      <td>899</td>\n",
              "      <td>235</td>\n",
              "      <td>250</td>\n",
              "      <td>[[[0.0, 0.0, 0.0, 0.0, 0.0, 0.0, 0.0, 0.0, 0.0...</td>\n",
              "    </tr>\n",
              "    <tr>\n",
              "      <th>21</th>\n",
              "      <td>Muller</td>\n",
              "      <td>133</td>\n",
              "      <td>646</td>\n",
              "      <td>444</td>\n",
              "      <td>250</td>\n",
              "      <td>[[[0.0, 0.0, 0.0, 0.0, 0.0, 0.0, 0.0, 0.0, 0.0...</td>\n",
              "    </tr>\n",
              "    <tr>\n",
              "      <th>24</th>\n",
              "      <td>Radnitz</td>\n",
              "      <td>94</td>\n",
              "      <td>885</td>\n",
              "      <td>261</td>\n",
              "      <td>250</td>\n",
              "      <td>[[[0.0, 0.0, 0.0, 0.0, 0.0, 0.0, 0.0, 0.0, 0.0...</td>\n",
              "    </tr>\n",
              "    <tr>\n",
              "      <th>25</th>\n",
              "      <td>Radnitz</td>\n",
              "      <td>162</td>\n",
              "      <td>1056</td>\n",
              "      <td>178</td>\n",
              "      <td>250</td>\n",
              "      <td>[[[0.0, 0.0, 0.0, 0.0, 0.0, 0.0, 0.0, 0.0, 0.0...</td>\n",
              "    </tr>\n",
              "    <tr>\n",
              "      <th>38</th>\n",
              "      <td>Theiler</td>\n",
              "      <td>15</td>\n",
              "      <td>1348</td>\n",
              "      <td>343</td>\n",
              "      <td>250</td>\n",
              "      <td>[[[0.0, 0.0, 0.0, 0.0, 0.0, 0.0, 0.0, 0.0, 0.0...</td>\n",
              "    </tr>\n",
              "  </tbody>\n",
              "</table>\n",
              "</div>"
            ],
            "text/plain": [
              "   mouse_name  ...                                        spike_times\n",
              "0        Cori  ...  [[[0.0, 0.0, 0.0, 0.0, 0.0, 50.0, 0.0, 0.0, 0....\n",
              "2        Cori  ...  [[[0.0, 0.0, 0.0, 0.0, 0.0, 0.0, 0.0, 0.0, 0.0...\n",
              "3   Forssmann  ...  [[[0.0, 10.0, 0.0, 0.0, 40.0, 0.0, 0.0, 0.0, 0...\n",
              "7       Hench  ...  [[[0.0, 0.0, 0.0, 0.0, 0.0, 0.0, 0.0, 0.0, 0.0...\n",
              "9       Hench  ...  [[[0.0, 0.0, 0.0, 0.0, 0.0, 0.0, 0.0, 0.0, 0.0...\n",
              "11  Lederberg  ...  [[[0.0, 10.0, 0.0, 0.0, 0.0, 0.0, 0.0, 0.0, 0....\n",
              "13  Lederberg  ...  [[[0.0, 0.0, 0.0, 0.0, 0.0, 0.0, 0.0, 0.0, 0.0...\n",
              "19      Moniz  ...  [[[0.0, 0.0, 0.0, 0.0, 0.0, 0.0, 0.0, 0.0, 0.0...\n",
              "21     Muller  ...  [[[0.0, 0.0, 0.0, 0.0, 0.0, 0.0, 0.0, 0.0, 0.0...\n",
              "24    Radnitz  ...  [[[0.0, 0.0, 0.0, 0.0, 0.0, 0.0, 0.0, 0.0, 0.0...\n",
              "25    Radnitz  ...  [[[0.0, 0.0, 0.0, 0.0, 0.0, 0.0, 0.0, 0.0, 0.0...\n",
              "38    Theiler  ...  [[[0.0, 0.0, 0.0, 0.0, 0.0, 0.0, 0.0, 0.0, 0.0...\n",
              "\n",
              "[12 rows x 6 columns]"
            ]
          },
          "metadata": {
            "tags": []
          },
          "execution_count": 25
        }
      ]
    },
    {
      "cell_type": "code",
      "metadata": {
        "id": "rk2bBT_IhygU",
        "colab_type": "code",
        "colab": {
          "base_uri": "https://localhost:8080/",
          "height": 278
        },
        "outputId": "ed3ad53d-b36b-4c86-a528-23c591871f79"
      },
      "source": [
        "#@title V1 data Raster plot\n",
        "indexes_with_visp = np.array(df[df['num_v1_neurons']!=0].index)\n",
        "extracted_data    = extracted_data[indexes_with_visp]\n",
        "interval_spike_times = extracted_data[0]['spike_times'][0]\n",
        "neuron_idx           = [idx for idx, neuron in enumerate(interval_spike_times) if len(neuron[neuron > 0]) > 50]\n",
        "\n",
        "plt.eventplot(interval_spike_times[neuron_idx], color=\".2\")\n",
        "plt.xlabel(\"Time (s)\")\n",
        "plt.yticks([]);"
      ],
      "execution_count": null,
      "outputs": [
        {
          "output_type": "display_data",
          "data": {
            "image/png": "[encoded data removed]",
            "text/plain": [
              "<Figure size 1440x288 with 1 Axes>"
            ]
          },
          "metadata": {
            "tags": [],
            "needs_background": "light"
          }
        }
      ]
    },
    {
      "cell_type": "code",
      "metadata": {
        "id": "QqABvwYomfQM",
        "colab_type": "code",
        "colab": {
          "base_uri": "https://localhost:8080/",
          "height": 98
        },
        "outputId": "30f7e521-2e66-4811-db31-17ca73c365b5"
      },
      "source": [
        "#@title logistic regression\n",
        "from sklearn.linear_model import LogisticRegression\n",
        "from sklearn.model_selection import cross_val_score\n",
        "\n",
        "my_mouse             = extracted_data[5]\n",
        "feedback             = my_mouse['binary_feedback']\n",
        "spikes_my_mouse      = my_mouse['spikes_reordered']\n",
        "trials, neurons, __, = np.shape(spikes_my_mouse)\n",
        "trials               = [trial for trial in range(trials)]\n",
        "neurons              = [neuron for neuron in range(neurons)]\n",
        "\n",
        "neuron = 1\n",
        "\n",
        "X = spikes_my_mouse[neuron][1:][:]\n",
        "y = feedback[:-1]\n",
        "\n",
        "# define model\n",
        "log_reg = LogisticRegression(penalty=\"none\")\n",
        "\n",
        "# fit model to data\n",
        "log_reg.fit(X, y)"
      ],
      "execution_count": null,
      "outputs": [
        {
          "output_type": "execute_result",
          "data": {
            "text/plain": [
              "LogisticRegression(C=1.0, class_weight=None, dual=False, fit_intercept=True,\n",
              "                   intercept_scaling=1, l1_ratio=None, max_iter=100,\n",
              "                   multi_class='auto', n_jobs=None, penalty='none',\n",
              "                   random_state=None, solver='lbfgs', tol=0.0001, verbose=0,\n",
              "                   warm_start=False)"
            ]
          },
          "metadata": {
            "tags": []
          },
          "execution_count": 31
        }
      ]
    },
    {
      "cell_type": "code",
      "metadata": {
        "id": "-pvB2C2tm7nH",
        "colab_type": "code",
        "colab": {
          "base_uri": "https://localhost:8080/",
          "height": 191
        },
        "outputId": "ea125aca-8124-4353-f104-9311e4f9f6dd"
      },
      "source": [
        "#row['response']        = data['response']\n",
        "#row['feedback']        = data['feedback_type']\n",
        "row['binary_feedback'] = np.array(data['feedback_type'] == 1).astype(int)\n"
      ],
      "execution_count": null,
      "outputs": [
        {
          "output_type": "error",
          "ename": "NameError",
          "evalue": "ignored",
          "traceback": [
            "\u001b[0;31m---------------------------------------------------------------------------\u001b[0m",
            "\u001b[0;31mNameError\u001b[0m                                 Traceback (most recent call last)",
            "\u001b[0;32m<ipython-input-33-c76fd6ae9e2a>\u001b[0m in \u001b[0;36m<module>\u001b[0;34m()\u001b[0m\n\u001b[1;32m      1\u001b[0m \u001b[0;31m#row['response']        = data['response']\u001b[0m\u001b[0;34m\u001b[0m\u001b[0;34m\u001b[0m\u001b[0;34m\u001b[0m\u001b[0m\n\u001b[1;32m      2\u001b[0m \u001b[0;31m#row['feedback']        = data['feedback_type']\u001b[0m\u001b[0;34m\u001b[0m\u001b[0;34m\u001b[0m\u001b[0;34m\u001b[0m\u001b[0m\n\u001b[0;32m----> 3\u001b[0;31m \u001b[0mrow\u001b[0m\u001b[0;34m[\u001b[0m\u001b[0;34m'binary_feedback'\u001b[0m\u001b[0;34m]\u001b[0m \u001b[0;34m=\u001b[0m \u001b[0mnp\u001b[0m\u001b[0;34m.\u001b[0m\u001b[0marray\u001b[0m\u001b[0;34m(\u001b[0m\u001b[0mdata\u001b[0m\u001b[0;34m[\u001b[0m\u001b[0;34m'feedback_type'\u001b[0m\u001b[0;34m]\u001b[0m \u001b[0;34m==\u001b[0m \u001b[0;36m1\u001b[0m\u001b[0;34m)\u001b[0m\u001b[0;34m.\u001b[0m\u001b[0mastype\u001b[0m\u001b[0;34m(\u001b[0m\u001b[0mint\u001b[0m\u001b[0;34m)\u001b[0m\u001b[0;34m\u001b[0m\u001b[0;34m\u001b[0m\u001b[0m\n\u001b[0m",
            "\u001b[0;31mNameError\u001b[0m: name 'data' is not defined"
          ]
        }
      ]
    }
  ]
}