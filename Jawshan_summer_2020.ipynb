{
  "nbformat": 4,
  "nbformat_minor": 0,
  "metadata": {
    "colab": {
      "name": "Jawshan_summer_2020",
      "provenance": [],
      "collapsed_sections": [],
      "authorship_tag": "ABX9TyP0vRY1ajyJucTIY/vw1P4E",
      "include_colab_link": true
    },
    "kernelspec": {
      "name": "python3",
      "display_name": "Python 3"
    }
  },
  "cells": [
    {
      "cell_type": "markdown",
      "metadata": {
        "id": "view-in-github",
        "colab_type": "text"
      },
      "source": [
        "<a href=\"https://colab.research.google.com/github/jawshan/CompNeuro_Summer2020/blob/master/Jawshan_summer_2020.ipynb\" target=\"_parent\"><img src=\"https://colab.research.google.com/assets/colab-badge.svg\" alt=\"Open In Colab\"/></a>"
      ]
    },
    {
      "cell_type": "code",
      "metadata": {
        "id": "9eGwgpvgOKd9",
        "colab_type": "code",
        "colab": {}
      },
      "source": [
        "#Data retrival\n",
        "import os, requests\n",
        "\n",
        "fname = []\n",
        "for j in range(3):\n",
        "  fname.append('steinmetz_part%d.npz'%j)\n",
        "url = [\"https://osf.io/agvxh/download\"]\n",
        "url.append(\"https://osf.io/uv3mw/download\")\n",
        "url.append(\"https://osf.io/ehmw2/download\")\n",
        "\n",
        "for j in range(len(url)):\n",
        "  if not os.path.isfile(fname[j]):\n",
        "    try:\n",
        "      r = requests.get(url[j])\n",
        "    except requests.ConnectionError:\n",
        "      print(\"!!! Failed to download data !!!\")\n",
        "    else:\n",
        "      if r.status_code != requests.codes.ok:\n",
        "        print(\"!!! Failed to download data !!!\")\n",
        "      else:\n",
        "        with open(fname[j], \"wb\") as fid:\n",
        "          fid.write(r.content)\n"
      ],
      "execution_count": null,
      "outputs": []
    },
    {
      "cell_type": "code",
      "metadata": {
        "id": "i1kP4ZudPrOy",
        "colab_type": "code",
        "colab": {}
      },
      "source": [
        "#Import matplotlib and set defaults\n",
        "from matplotlib import rcParams \n",
        "from matplotlib import pyplot as plt\n",
        "rcParams['figure.figsize'] = [20, 4]\n",
        "rcParams['font.size'] =15\n",
        "rcParams['axes.spines.top'] = False\n",
        "rcParams['axes.spines.right'] = False\n",
        "rcParams['figure.autolayout'] = True"
      ],
      "execution_count": null,
      "outputs": []
    },
    {
      "cell_type": "code",
      "metadata": {
        "id": "HLdP1L-pP5-d",
        "colab_type": "code",
        "colab": {}
      },
      "source": [
        "#Data loading\n",
        "import numpy as np\n",
        "import pandas as pd\n",
        "\n",
        "alldat = np.array([])\n",
        "for j in range(len(fname)):\n",
        "  alldat = np.hstack((alldat, np.load('steinmetz_part%d.npz'%j, allow_pickle=True)['dat']))\n",
        "\n",
        "# select just one of the recordings here. 11 is nice because it has some neurons in vis ctx. \n",
        "dat = alldat[11]\n",
        "#print(dat.keys())"
      ],
      "execution_count": null,
      "outputs": []
    },
    {
      "cell_type": "code",
      "metadata": {
        "id": "0owOPvcQfqYn",
        "colab_type": "code",
        "colab": {}
      },
      "source": [
        "#Data Extraction\n",
        "def extract_data(data, brain_area):\n",
        "  row = {}\n",
        "  row['mouse_name']     = data['mouse_name']\n",
        "  row['num_v1_neurons'] = np.sum(data['brain_area']=='VISp')\n",
        "  row['num_neurons'], row['num_trials'], row['num_time_bins'] = data['spks'].shape\n",
        "  # Event times in seconds ∈ [0,2.5]  \n",
        "  row['start_time']      = 0.0\n",
        "  row['stim_onset_time'] = data['stim_onset']\n",
        "  row['gocue_time']      = data['gocue']\n",
        "  row['response_time']   = data['response_time']\n",
        "  row['feedback_time']   = data['feedback_time']\n",
        "  row['end_time']        = data['bin_size'] * row['num_time_bins']\n",
        "  # Stimulus info : right and left stimulus contrasts ∈ [0,1] \n",
        "  row['contrast_right'] = data['contrast_right']\n",
        "  row['contrast_left']  = data['contrast_left']\n",
        "  # feedback (-ve,+ve)          :  ∈ {-1,1}  \n",
        "  row['response']        = data['response']\n",
        "  row['feedback']        = data['feedback_type']\n",
        "  row['binary_feedback'] = np.array(data['feedback_type'] == 1).astype(int)\n",
        "  ## Extracting spikes from neurons corresponding to specified region\n",
        "  visp_indexes = np.argwhere(data['brain_area']==brain_area)\n",
        "  reduced_neuron_spikes = np.squeeze(data['spks'][visp_indexes,:,:],1)  \n",
        "  ## Reshaping spikes to have trials dimension first : #trials, #neurons, #time_bins \n",
        "  row['spikes'] = reduced_neuron_spikes.transpose(1,0,2)\n",
        "  ## Convert spikes to time & spike count per trial\n",
        "  row['spike_times'] = np.zeros_like(row['spikes']).astype(np.float16)\n",
        "  ax1, ax2, ax3      = np.shape(row['spikes'])\n",
        "  row['spike_count'] = np.zeros((ax1, ax2, 1)).astype(np.float16)\n",
        "  correction         = 1/1000\n",
        "  for i, trial in enumerate(row['spike_times']):\n",
        "    for j, neuron in enumerate(row['spike_times'][i]):\n",
        "      row['spike_count'][i][j] = np.sum(row['spikes'][i][j])\n",
        "      spike_time_list          = [10 * bin if spike !=0 else 0 for bin, spike in enumerate(row['spikes'][i][j])]\n",
        "      row['spike_times'][i][j] = np.array(spike_time_list).astype(np.float16)\n",
        "  row['spikes_reordered'] = reduced_neuron_spikes\n",
        "  return(row)\n",
        "extracted_data = np.array(list(map(lambda data: extract_data(data, 'VISp'), alldat)))\n",
        "#print(extracted_data[0]['spike_count'][0][30])\n",
        "\n",
        "my_mouse             = extracted_data[8]\n",
        "feedback             = my_mouse['binary_feedback']\n",
        "neuron = 1\n",
        "#Number_of_trials =len(y)\n",
        "#number_of_neurons = np.sum(data['brain_area']=='VISp')\n",
        "\n",
        "#LDR = np.zeros((Number_of_trials, num_v1_neurons))\n"
      ],
      "execution_count": null,
      "outputs": []
    },
    {
      "cell_type": "code",
      "metadata": {
        "id": "cjNHCNALgFEp",
        "colab_type": "code",
        "colab": {}
      },
      "source": [
        "#@title Data Table\n",
        "time_cols = ['start_time','stim_onset_time','gocue_time','response_time','feedback_time','end_time']\n",
        "id_cols  = ['mouse_name']\n",
        "dim_cols = ['num_v1_neurons','num_neurons','num_trials','num_time_bins','spike_times']\n",
        "\n",
        "cols = id_cols + dim_cols\n",
        "\n",
        "df = pd.DataFrame.from_records(extracted_data, columns=cols)\n",
        "\n",
        "df_v1 = df[df['num_v1_neurons'] > 0]\n"
      ],
      "execution_count": 81,
      "outputs": []
    },
    {
      "cell_type": "code",
      "metadata": {
        "id": "uEAWv7Jvmpry",
        "colab_type": "code",
        "colab": {
          "base_uri": "https://localhost:8080/",
          "height": 232
        },
        "outputId": "1db31401-96df-490e-f9a1-cc6aef1f7e19"
      },
      "source": [
        "#@title LRD\n",
        "my_mouse             = extracted_data[8]\n",
        "feedback             = my_mouse['binary_feedback']\n",
        "neuron = 1\n",
        "Number_of_trials =len(y)\n",
        "number_of_neurons = np.sum(data['brain_area']=='VISp')\n",
        "\n",
        "LDR = np.zeros((Number_of_trials, num_v1_neurons))"
      ],
      "execution_count": 94,
      "outputs": [
        {
          "output_type": "error",
          "ename": "NameError",
          "evalue": "ignored",
          "traceback": [
            "\u001b[0;31m---------------------------------------------------------------------------\u001b[0m",
            "\u001b[0;31mNameError\u001b[0m                                 Traceback (most recent call last)",
            "\u001b[0;32m<ipython-input-94-646d98945852>\u001b[0m in \u001b[0;36m<module>\u001b[0;34m()\u001b[0m\n\u001b[1;32m      4\u001b[0m \u001b[0mneuron\u001b[0m \u001b[0;34m=\u001b[0m \u001b[0;36m1\u001b[0m\u001b[0;34m\u001b[0m\u001b[0;34m\u001b[0m\u001b[0m\n\u001b[1;32m      5\u001b[0m \u001b[0mNumber_of_trials\u001b[0m \u001b[0;34m=\u001b[0m\u001b[0mlen\u001b[0m\u001b[0;34m(\u001b[0m\u001b[0my\u001b[0m\u001b[0;34m)\u001b[0m\u001b[0;34m\u001b[0m\u001b[0;34m\u001b[0m\u001b[0m\n\u001b[0;32m----> 6\u001b[0;31m \u001b[0mnumber_of_neurons\u001b[0m \u001b[0;34m=\u001b[0m \u001b[0mnp\u001b[0m\u001b[0;34m.\u001b[0m\u001b[0msum\u001b[0m\u001b[0;34m(\u001b[0m\u001b[0mdata\u001b[0m\u001b[0;34m[\u001b[0m\u001b[0;34m'brain_area'\u001b[0m\u001b[0;34m]\u001b[0m\u001b[0;34m==\u001b[0m\u001b[0;34m'VISp'\u001b[0m\u001b[0;34m)\u001b[0m\u001b[0;34m\u001b[0m\u001b[0;34m\u001b[0m\u001b[0m\n\u001b[0m\u001b[1;32m      7\u001b[0m \u001b[0;34m\u001b[0m\u001b[0m\n\u001b[1;32m      8\u001b[0m \u001b[0mLDR\u001b[0m \u001b[0;34m=\u001b[0m \u001b[0mnp\u001b[0m\u001b[0;34m.\u001b[0m\u001b[0mzeros\u001b[0m\u001b[0;34m(\u001b[0m\u001b[0;34m(\u001b[0m\u001b[0mNumber_of_trials\u001b[0m\u001b[0;34m,\u001b[0m \u001b[0mnum_v1_neurons\u001b[0m\u001b[0;34m)\u001b[0m\u001b[0;34m)\u001b[0m\u001b[0;34m\u001b[0m\u001b[0;34m\u001b[0m\u001b[0m\n",
            "\u001b[0;31mNameError\u001b[0m: name 'data' is not defined"
          ]
        }
      ]
    },
    {
      "cell_type": "code",
      "metadata": {
        "id": "TPuxFfeg2CnL",
        "colab_type": "code",
        "colab": {
          "base_uri": "https://localhost:8080/",
          "height": 164
        },
        "outputId": "67d8f159-0b7e-4bf1-be0b-a492fc448536"
      },
      "source": [
        "(num_v1_neurons)"
      ],
      "execution_count": 91,
      "outputs": [
        {
          "output_type": "error",
          "ename": "NameError",
          "evalue": "ignored",
          "traceback": [
            "\u001b[0;31m---------------------------------------------------------------------------\u001b[0m",
            "\u001b[0;31mNameError\u001b[0m                                 Traceback (most recent call last)",
            "\u001b[0;32m<ipython-input-91-6bd7e620bcb2>\u001b[0m in \u001b[0;36m<module>\u001b[0;34m()\u001b[0m\n\u001b[0;32m----> 1\u001b[0;31m \u001b[0;34m(\u001b[0m\u001b[0mnum_v1_neurons\u001b[0m\u001b[0;34m)\u001b[0m\u001b[0;34m\u001b[0m\u001b[0;34m\u001b[0m\u001b[0m\n\u001b[0m",
            "\u001b[0;31mNameError\u001b[0m: name 'num_v1_neurons' is not defined"
          ]
        }
      ]
    },
    {
      "cell_type": "code",
      "metadata": {
        "id": "QqABvwYomfQM",
        "colab_type": "code",
        "colab": {
          "base_uri": "https://localhost:8080/",
          "height": 102
        },
        "outputId": "769b27fb-b2a9-49b7-8885-6d30a77a9802"
      },
      "source": [
        "#@title logistic regression\n",
        "from sklearn.linear_model import LogisticRegression\n",
        "from sklearn.model_selection import cross_val_score\n",
        "\n",
        "my_mouse             = extracted_data[5]\n",
        "feedback             = my_mouse['binary_feedback']\n",
        "spikes_my_mouse      = my_mouse['spikes_reordered']\n",
        "#trials, neurons, __, = np.shape(spikes_my_mouse)\n",
        "#trials               = [trial for trial in range(trials)]\n",
        "#neurons              = [neuron for neuron in range(neurons)]\n",
        "\n",
        "neuron = 1\n",
        "\n",
        "X = spikes_my_mouse[neuron][1:][:]\n",
        "y = feedback[:-1]\n",
        "\n",
        "# define model\n",
        "log_reg = LogisticRegression(penalty=\"none\")\n",
        "\n",
        "# fit model to data\n",
        "log_reg.fit(X, y)\n",
        "\n"
      ],
      "execution_count": null,
      "outputs": [
        {
          "output_type": "execute_result",
          "data": {
            "text/plain": [
              "LogisticRegression(C=1.0, class_weight=None, dual=False, fit_intercept=True,\n",
              "                   intercept_scaling=1, l1_ratio=None, max_iter=100,\n",
              "                   multi_class='auto', n_jobs=None, penalty='none',\n",
              "                   random_state=None, solver='lbfgs', tol=0.0001, verbose=0,\n",
              "                   warm_start=False)"
            ]
          },
          "metadata": {
            "tags": []
          },
          "execution_count": 59
        }
      ]
    },
    {
      "cell_type": "code",
      "metadata": {
        "id": "h1IKGhKK0vGD",
        "colab_type": "code",
        "colab": {
          "base_uri": "https://localhost:8080/",
          "height": 34
        },
        "outputId": "44ede4dd-0b6c-44b8-9417-20d6a98921fa"
      },
      "source": [
        "len(y)"
      ],
      "execution_count": null,
      "outputs": [
        {
          "output_type": "execute_result",
          "data": {
            "text/plain": [
              "339"
            ]
          },
          "metadata": {
            "tags": []
          },
          "execution_count": 52
        }
      ]
    },
    {
      "cell_type": "code",
      "metadata": {
        "id": "YiDyrzpDYmRX",
        "colab_type": "code",
        "colab": {
          "base_uri": "https://localhost:8080/",
          "height": 98
        },
        "outputId": "a7555017-51ff-4698-ba20-e351eed707d8"
      },
      "source": [
        "#@title cross validation\n",
        "from sklearn.linear_model import LogisticRegression\n",
        "from sklearn.model_selection import cross_val_score\n",
        "\n",
        "my_mouse             = extracted_data[0]\n",
        "feedback             = my_mouse['binary_feedback']\n",
        "spikes_my_mouse      = my_mouse['spikes_reordered']\n",
        "trials, neurons, __, = np.shape(spikes_my_mouse)\n",
        "trials               = [trial for trial in range(trials)]\n",
        "neurons              = [neuron for neuron in range(neurons)]\n",
        "\n",
        "neuron = 1\n",
        "\n",
        "X = spikes_my_mouse[neuron][1:][:]\n",
        "y = feedback[:-1]\n",
        "\n",
        "# define model\n",
        "log_reg = LogisticRegression(penalty=\"none\")\n",
        "\n",
        "# fit model to data\n",
        "log_reg.fit(X, y)"
      ],
      "execution_count": null,
      "outputs": [
        {
          "output_type": "execute_result",
          "data": {
            "text/plain": [
              "LogisticRegression(C=1.0, class_weight=None, dual=False, fit_intercept=True,\n",
              "                   intercept_scaling=1, l1_ratio=None, max_iter=100,\n",
              "                   multi_class='auto', n_jobs=None, penalty='none',\n",
              "                   random_state=None, solver='lbfgs', tol=0.0001, verbose=0,\n",
              "                   warm_start=False)"
            ]
          },
          "metadata": {
            "tags": []
          },
          "execution_count": 32
        }
      ]
    },
    {
      "cell_type": "code",
      "metadata": {
        "id": "4L8D4Z4AYwzl",
        "colab_type": "code",
        "colab": {
          "base_uri": "https://localhost:8080/",
          "height": 33
        },
        "outputId": "55fa85bb-b202-4966-8284-0f99fa7086b9"
      },
      "source": [
        "#@title computing accuracy\n",
        "def compute_accuracy(X, y, model):\n",
        "  \"\"\"Compute accuracy of classifier predictions.\n",
        "  \n",
        "  Args:\n",
        "    X (2D array): Data matrix\n",
        "    y (1D array): Label vector\n",
        "    model (sklearn estimator): Classifier with trained weights.\n",
        "  Returns:\n",
        "    accuracy (float): Proportion of correct predictions.  \n",
        "  \"\"\"\n",
        "  y_pred = model.predict(X)\n",
        "  accuracy = (y == y_pred).mean()\n",
        "\n",
        "  return accuracy\n",
        "\n",
        "train_accuracy = compute_accuracy(X, y, log_reg)\n",
        "print(f\"Accuracy on the training data: {train_accuracy:.2%}\")\n",
        "\n"
      ],
      "execution_count": null,
      "outputs": [
        {
          "output_type": "stream",
          "text": [
            "Accuracy on the training data: 73.71%\n"
          ],
          "name": "stdout"
        }
      ]
    }
  ]
}