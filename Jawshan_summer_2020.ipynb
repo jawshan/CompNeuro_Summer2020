{
  "nbformat": 4,
  "nbformat_minor": 0,
  "metadata": {
    "colab": {
      "name": "Jawshan_summer_2020",
      "provenance": [],
      "collapsed_sections": [],
      "authorship_tag": "ABX9TyPNyRgErdAJw+HMQ+xVO1oN",
      "include_colab_link": true
    },
    "kernelspec": {
      "name": "python3",
      "display_name": "Python 3"
    }
  },
  "cells": [
    {
      "cell_type": "markdown",
      "metadata": {
        "id": "view-in-github",
        "colab_type": "text"
      },
      "source": [
        "<a href=\"https://colab.research.google.com/github/jawshan/CompNeuro_Summer2020/blob/master/Jawshan_summer_2020.ipynb\" target=\"_parent\"><img src=\"https://colab.research.google.com/assets/colab-badge.svg\" alt=\"Open In Colab\"/></a>"
      ]
    },
    {
      "cell_type": "code",
      "metadata": {
        "id": "9eGwgpvgOKd9",
        "colab_type": "code",
        "colab": {}
      },
      "source": [
        "#@title Data retrival\n",
        "import os, requests\n",
        "\n",
        "fname = []\n",
        "for j in range(3):\n",
        "  fname.append('steinmetz_part%d.npz'%j)\n",
        "url = [\"https://osf.io/agvxh/download\"]\n",
        "url.append(\"https://osf.io/uv3mw/download\")\n",
        "url.append(\"https://osf.io/ehmw2/download\")\n",
        "\n",
        "for j in range(len(url)):\n",
        "  if not os.path.isfile(fname[j]):\n",
        "    try:\n",
        "      r = requests.get(url[j])\n",
        "    except requests.ConnectionError:\n",
        "      print(\"!!! Failed to download data !!!\")\n",
        "    else:\n",
        "      if r.status_code != requests.codes.ok:\n",
        "        print(\"!!! Failed to download data !!!\")\n",
        "      else:\n",
        "        with open(fname[j], \"wb\") as fid:\n",
        "          fid.write(r.content)\n"
      ],
      "execution_count": 10,
      "outputs": []
    },
    {
      "cell_type": "code",
      "metadata": {
        "id": "i1kP4ZudPrOy",
        "colab_type": "code",
        "colab": {}
      },
      "source": [
        "#@title Import matplotlib and set defaults\n",
        "from matplotlib import rcParams \n",
        "from matplotlib import pyplot as plt\n",
        "rcParams['figure.figsize'] = [20, 4]\n",
        "rcParams['font.size'] =15\n",
        "rcParams['axes.spines.top'] = False\n",
        "rcParams['axes.spines.right'] = False\n",
        "rcParams['figure.autolayout'] = True"
      ],
      "execution_count": 11,
      "outputs": []
    },
    {
      "cell_type": "code",
      "metadata": {
        "id": "HLdP1L-pP5-d",
        "colab_type": "code",
        "colab": {}
      },
      "source": [
        "#@title Data loading\n",
        "import numpy as np\n",
        "\n",
        "alldat = np.array([])\n",
        "for j in range(len(fname)):\n",
        "  alldat = np.hstack((alldat, np.load('steinmetz_part%d.npz'%j, allow_pickle=True)['dat']))\n",
        "\n",
        "# select just one of the recordings here. 11 is nice because it has some neurons in vis ctx. \n",
        "dat = alldat[11]\n",
        "#print(dat.keys())"
      ],
      "execution_count": 12,
      "outputs": []
    },
    {
      "cell_type": "code",
      "metadata": {
        "id": "0owOPvcQfqYn",
        "colab_type": "code",
        "colab": {}
      },
      "source": [
        "#@title Data Extraction\n",
        "\n",
        "\n",
        "def extract_data(data, brain_area):\n",
        "  row = {}\n",
        "  row['mouse_name']     = data['mouse_name']\n",
        "  row['num_v1_neurons'] = np.sum(data['brain_area']=='VISp')\n",
        "  row['num_neurons'], row['num_trials'], row['num_time_bins'] = data['spks'].shape\n",
        "\n",
        "  # Event times in seconds ∈ [0,2.5]  \n",
        "  row['start_time']      = 0.0\n",
        "  row['stim_onset_time'] = data['stim_onset']\n",
        "  row['gocue_time']      = data['gocue']\n",
        "  row['response_time']   = data['response_time']\n",
        "  row['feedback_time']   = data['feedback_time']\n",
        "  row['end_time']        = data['bin_size'] * row['num_time_bins']\n",
        "  # Stimulus info : right and left stimulus contrasts ∈ [0,1] \n",
        "  row['contrast_right'] = data['contrast_right']\n",
        "  row['contrast_left']  = data['contrast_left']\n",
        "  # Action and feedback info   \n",
        "  # response (left,no-go,right) :  ∈ {-1,0,1}\n",
        "  # feedback (-ve,+ve)          :  ∈ {-1,1}  \n",
        "  row['response']        = data['response']\n",
        "  row['feedback']        = data['feedback_type']\n",
        "  row['binary_feedback'] = np.array(data['feedback_type'] == 1).astype(int)\n",
        "\n",
        "  # Spikes\n",
        "\n",
        "  ## Extracting spikes from neurons corresponding to specified region\n",
        "  visp_indexes = np.argwhere(data['brain_area']==brain_area)\n",
        "  reduced_neuron_spikes = np.squeeze(data['spks'][visp_indexes,:,:],1)  \n",
        "  ## Reshaping spikes to have trials dimension first : #trials, #neurons, #time_bins \n",
        "  row['spikes'] = reduced_neuron_spikes.transpose(1,0,2)\n",
        "\n",
        "  ## Convert spikes to time & spike count per trial\n",
        "  row['spike_times'] = np.zeros_like(row['spikes']).astype(np.float16)\n",
        "  ax1, ax2, ax3      = np.shape(row['spikes'])\n",
        "  row['spike_count'] = np.zeros((ax1, ax2, 1)).astype(np.float16)\n",
        "  correction         = 1/1000\n",
        "  for i, trial in enumerate(row['spike_times']):\n",
        "    for j, neuron in enumerate(row['spike_times'][i]):\n",
        "      row['spike_count'][i][j] = np.sum(row['spikes'][i][j])\n",
        "      spike_time_list          = [10 * bin if spike !=0 else 0 for bin, spike in enumerate(row['spikes'][i][j])]\n",
        "      row['spike_times'][i][j] = np.array(spike_time_list).astype(np.float16)\n",
        "\n",
        "  row['spikes_reordered'] = reduced_neuron_spikes\n",
        "  return(row)\n",
        "\n",
        "extracted_data = np.array(list(map(lambda data: extract_data(data, 'VISp'), alldat)))\n",
        "#print(extracted_data[0]['spike_count'][0][30])\n"
      ],
      "execution_count": null,
      "outputs": []
    },
    {
      "cell_type": "code",
      "metadata": {
        "id": "cjNHCNALgFEp",
        "colab_type": "code",
        "colab": {}
      },
      "source": [
        "#@title Data Table\n",
        "time_cols = ['start_time','stim_onset_time','gocue_time','response_time','feedback_time','end_time']\n",
        "id_cols  = ['mouse_name']\n",
        "dim_cols = ['num_v1_neurons','num_neurons','num_trials','num_time_bins','spike_times']\n",
        "\n",
        "cols = id_cols + dim_cols\n",
        "\n",
        "df = pd.DataFrame.from_records(extracted_data, columns=cols)\n",
        "\n",
        "df_v1 = df[df['num_v1_neurons'] > 0]\n",
        "df_v1"
      ],
      "execution_count": null,
      "outputs": []
    }
  ]
}